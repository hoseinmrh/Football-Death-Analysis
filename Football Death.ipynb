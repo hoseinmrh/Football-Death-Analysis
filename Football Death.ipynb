{
 "cells": [
  {
   "cell_type": "markdown",
   "id": "0084a59a",
   "metadata": {},
   "source": [
    "# Football death data analysis By Hosein Mirhoseini"
   ]
  },
  {
   "cell_type": "code",
   "execution_count": 1,
   "id": "eec1ed30",
   "metadata": {},
   "outputs": [],
   "source": [
    "import pandas as pd\n",
    "import numpy as np\n",
    "import matplotlib as plt\n",
    "import seaborn as sns"
   ]
  },
  {
   "cell_type": "code",
   "execution_count": 2,
   "id": "9e8450e7",
   "metadata": {},
   "outputs": [
    {
     "data": {
      "text/html": [
       "<div>\n",
       "<style scoped>\n",
       "    .dataframe tbody tr th:only-of-type {\n",
       "        vertical-align: middle;\n",
       "    }\n",
       "\n",
       "    .dataframe tbody tr th {\n",
       "        vertical-align: top;\n",
       "    }\n",
       "\n",
       "    .dataframe thead th {\n",
       "        text-align: right;\n",
       "    }\n",
       "</style>\n",
       "<table border=\"1\" class=\"dataframe\">\n",
       "  <thead>\n",
       "    <tr style=\"text-align: right;\">\n",
       "      <th></th>\n",
       "      <th>row_id</th>\n",
       "      <th>incident_date</th>\n",
       "      <th>player_name</th>\n",
       "      <th>player_country</th>\n",
       "      <th>team_country</th>\n",
       "      <th>player_age</th>\n",
       "      <th>player_team_name</th>\n",
       "      <th>incident_description</th>\n",
       "      <th>heart_related</th>\n",
       "      <th>cardiac_related</th>\n",
       "      <th>collapsed</th>\n",
       "      <th>lightning</th>\n",
       "      <th>collision</th>\n",
       "    </tr>\n",
       "  </thead>\n",
       "  <tbody>\n",
       "    <tr>\n",
       "      <th>0</th>\n",
       "      <td>1</td>\n",
       "      <td>1889-01-13</td>\n",
       "      <td>William Cropper</td>\n",
       "      <td>England</td>\n",
       "      <td>England</td>\n",
       "      <td>26.0</td>\n",
       "      <td>Staveley</td>\n",
       "      <td>Ruptured bowel in a match against Grimsby Town...</td>\n",
       "      <td>0</td>\n",
       "      <td>0</td>\n",
       "      <td>0</td>\n",
       "      <td>0</td>\n",
       "      <td>0</td>\n",
       "    </tr>\n",
       "    <tr>\n",
       "      <th>1</th>\n",
       "      <td>2</td>\n",
       "      <td>1892-01-11</td>\n",
       "      <td>James Dunlop</td>\n",
       "      <td>Scotland</td>\n",
       "      <td>Scotland</td>\n",
       "      <td>21.0</td>\n",
       "      <td>St Mirren</td>\n",
       "      <td>Tetanus from fall on piece of glass in a frien...</td>\n",
       "      <td>0</td>\n",
       "      <td>0</td>\n",
       "      <td>0</td>\n",
       "      <td>0</td>\n",
       "      <td>0</td>\n",
       "    </tr>\n",
       "    <tr>\n",
       "      <th>2</th>\n",
       "      <td>3</td>\n",
       "      <td>1893-11-12</td>\n",
       "      <td>John Henry Morris</td>\n",
       "      <td>England</td>\n",
       "      <td>England</td>\n",
       "      <td>26.0</td>\n",
       "      <td>Shrewsbury Town</td>\n",
       "      <td>Internal haemorrhage following a bad tackle in...</td>\n",
       "      <td>0</td>\n",
       "      <td>0</td>\n",
       "      <td>0</td>\n",
       "      <td>0</td>\n",
       "      <td>0</td>\n",
       "    </tr>\n",
       "    <tr>\n",
       "      <th>3</th>\n",
       "      <td>4</td>\n",
       "      <td>1893-11-23</td>\n",
       "      <td>Walter Bannister</td>\n",
       "      <td>England</td>\n",
       "      <td>England</td>\n",
       "      <td>24.0</td>\n",
       "      <td>Chesterfield Town</td>\n",
       "      <td>Rupture of the kidney from a tackle in game ag...</td>\n",
       "      <td>0</td>\n",
       "      <td>0</td>\n",
       "      <td>0</td>\n",
       "      <td>0</td>\n",
       "      <td>0</td>\n",
       "    </tr>\n",
       "    <tr>\n",
       "      <th>4</th>\n",
       "      <td>5</td>\n",
       "      <td>1896-03-28</td>\n",
       "      <td>Teddy Smith</td>\n",
       "      <td>England</td>\n",
       "      <td>England</td>\n",
       "      <td>27.0</td>\n",
       "      <td>Bedminster</td>\n",
       "      <td>Suffered severe concussion following a clash o...</td>\n",
       "      <td>0</td>\n",
       "      <td>0</td>\n",
       "      <td>0</td>\n",
       "      <td>0</td>\n",
       "      <td>0</td>\n",
       "    </tr>\n",
       "    <tr>\n",
       "      <th>...</th>\n",
       "      <td>...</td>\n",
       "      <td>...</td>\n",
       "      <td>...</td>\n",
       "      <td>...</td>\n",
       "      <td>...</td>\n",
       "      <td>...</td>\n",
       "      <td>...</td>\n",
       "      <td>...</td>\n",
       "      <td>...</td>\n",
       "      <td>...</td>\n",
       "      <td>...</td>\n",
       "      <td>...</td>\n",
       "      <td>...</td>\n",
       "    </tr>\n",
       "    <tr>\n",
       "      <th>224</th>\n",
       "      <td>225</td>\n",
       "      <td>2021-09-04</td>\n",
       "      <td>Jens De Smet</td>\n",
       "      <td>Belgium</td>\n",
       "      <td>Netherlands</td>\n",
       "      <td>27.0</td>\n",
       "      <td>FCC Filosoof</td>\n",
       "      <td>Drama on Dutch football field, amateur player ...</td>\n",
       "      <td>0</td>\n",
       "      <td>0</td>\n",
       "      <td>1</td>\n",
       "      <td>0</td>\n",
       "      <td>0</td>\n",
       "    </tr>\n",
       "    <tr>\n",
       "      <th>225</th>\n",
       "      <td>226</td>\n",
       "      <td>2021-09-25</td>\n",
       "      <td>Guillermo Arias</td>\n",
       "      <td>Venezuela</td>\n",
       "      <td>Venezuela</td>\n",
       "      <td>31.0</td>\n",
       "      <td>Camaguán FC</td>\n",
       "      <td>In the quarterfinals of the third division tou...</td>\n",
       "      <td>0</td>\n",
       "      <td>1</td>\n",
       "      <td>1</td>\n",
       "      <td>0</td>\n",
       "      <td>0</td>\n",
       "    </tr>\n",
       "    <tr>\n",
       "      <th>226</th>\n",
       "      <td>227</td>\n",
       "      <td>2021-10-01</td>\n",
       "      <td>Bruno Stein</td>\n",
       "      <td>Germany</td>\n",
       "      <td>Germany</td>\n",
       "      <td>15.0</td>\n",
       "      <td>FC An der Fahner Höhe</td>\n",
       "      <td>Young goalkeeper and amateur angler Bruno Stei...</td>\n",
       "      <td>0</td>\n",
       "      <td>0</td>\n",
       "      <td>0</td>\n",
       "      <td>0</td>\n",
       "      <td>0</td>\n",
       "    </tr>\n",
       "    <tr>\n",
       "      <th>227</th>\n",
       "      <td>228</td>\n",
       "      <td>2021-10-08</td>\n",
       "      <td>Benoît Sabard</td>\n",
       "      <td>France</td>\n",
       "      <td>France</td>\n",
       "      <td>49.0</td>\n",
       "      <td>SC Massay</td>\n",
       "      <td>With  minutes to go before the end of the game...</td>\n",
       "      <td>0</td>\n",
       "      <td>0</td>\n",
       "      <td>1</td>\n",
       "      <td>0</td>\n",
       "      <td>0</td>\n",
       "    </tr>\n",
       "    <tr>\n",
       "      <th>228</th>\n",
       "      <td>229</td>\n",
       "      <td>2021-10-15</td>\n",
       "      <td>Christophe Ramassamy</td>\n",
       "      <td>France</td>\n",
       "      <td>France</td>\n",
       "      <td>54.0</td>\n",
       "      <td>AS Saint Yves</td>\n",
       "      <td>Christophe Ramassamy, a -year-old footballer, ...</td>\n",
       "      <td>1</td>\n",
       "      <td>0</td>\n",
       "      <td>1</td>\n",
       "      <td>0</td>\n",
       "      <td>0</td>\n",
       "    </tr>\n",
       "  </tbody>\n",
       "</table>\n",
       "<p>229 rows × 13 columns</p>\n",
       "</div>"
      ],
      "text/plain": [
       "     row_id incident_date           player_name player_country team_country  \\\n",
       "0         1    1889-01-13       William Cropper        England      England   \n",
       "1         2    1892-01-11          James Dunlop       Scotland     Scotland   \n",
       "2         3    1893-11-12     John Henry Morris        England      England   \n",
       "3         4    1893-11-23      Walter Bannister        England      England   \n",
       "4         5    1896-03-28           Teddy Smith        England      England   \n",
       "..      ...           ...                   ...            ...          ...   \n",
       "224     225    2021-09-04          Jens De Smet        Belgium  Netherlands   \n",
       "225     226    2021-09-25       Guillermo Arias      Venezuela    Venezuela   \n",
       "226     227    2021-10-01           Bruno Stein        Germany      Germany   \n",
       "227     228    2021-10-08         Benoît Sabard         France       France   \n",
       "228     229    2021-10-15  Christophe Ramassamy         France       France   \n",
       "\n",
       "     player_age       player_team_name  \\\n",
       "0          26.0               Staveley   \n",
       "1          21.0              St Mirren   \n",
       "2          26.0        Shrewsbury Town   \n",
       "3          24.0      Chesterfield Town   \n",
       "4          27.0             Bedminster   \n",
       "..          ...                    ...   \n",
       "224        27.0           FCC Filosoof   \n",
       "225        31.0            Camaguán FC   \n",
       "226        15.0  FC An der Fahner Höhe   \n",
       "227        49.0              SC Massay   \n",
       "228        54.0          AS Saint Yves   \n",
       "\n",
       "                                  incident_description  heart_related  \\\n",
       "0    Ruptured bowel in a match against Grimsby Town...              0   \n",
       "1    Tetanus from fall on piece of glass in a frien...              0   \n",
       "2    Internal haemorrhage following a bad tackle in...              0   \n",
       "3    Rupture of the kidney from a tackle in game ag...              0   \n",
       "4    Suffered severe concussion following a clash o...              0   \n",
       "..                                                 ...            ...   \n",
       "224  Drama on Dutch football field, amateur player ...              0   \n",
       "225  In the quarterfinals of the third division tou...              0   \n",
       "226  Young goalkeeper and amateur angler Bruno Stei...              0   \n",
       "227  With  minutes to go before the end of the game...              0   \n",
       "228  Christophe Ramassamy, a -year-old footballer, ...              1   \n",
       "\n",
       "     cardiac_related  collapsed  lightning  collision  \n",
       "0                  0          0          0          0  \n",
       "1                  0          0          0          0  \n",
       "2                  0          0          0          0  \n",
       "3                  0          0          0          0  \n",
       "4                  0          0          0          0  \n",
       "..               ...        ...        ...        ...  \n",
       "224                0          1          0          0  \n",
       "225                1          1          0          0  \n",
       "226                0          0          0          0  \n",
       "227                0          1          0          0  \n",
       "228                0          1          0          0  \n",
       "\n",
       "[229 rows x 13 columns]"
      ]
     },
     "execution_count": 2,
     "metadata": {},
     "output_type": "execute_result"
    }
   ],
   "source": [
    "file_name = \"football_deaths.csv\"\n",
    "df = pd.read_csv(file_name)\n",
    "df"
   ]
  },
  {
   "cell_type": "code",
   "execution_count": 3,
   "id": "53430a09",
   "metadata": {},
   "outputs": [
    {
     "data": {
      "text/html": [
       "<div>\n",
       "<style scoped>\n",
       "    .dataframe tbody tr th:only-of-type {\n",
       "        vertical-align: middle;\n",
       "    }\n",
       "\n",
       "    .dataframe tbody tr th {\n",
       "        vertical-align: top;\n",
       "    }\n",
       "\n",
       "    .dataframe thead th {\n",
       "        text-align: right;\n",
       "    }\n",
       "</style>\n",
       "<table border=\"1\" class=\"dataframe\">\n",
       "  <thead>\n",
       "    <tr style=\"text-align: right;\">\n",
       "      <th></th>\n",
       "      <th>row_id</th>\n",
       "      <th>player_age</th>\n",
       "      <th>heart_related</th>\n",
       "      <th>cardiac_related</th>\n",
       "      <th>collapsed</th>\n",
       "      <th>lightning</th>\n",
       "      <th>collision</th>\n",
       "    </tr>\n",
       "  </thead>\n",
       "  <tbody>\n",
       "    <tr>\n",
       "      <th>count</th>\n",
       "      <td>229.000000</td>\n",
       "      <td>214.000000</td>\n",
       "      <td>229.000000</td>\n",
       "      <td>229.000000</td>\n",
       "      <td>229.000000</td>\n",
       "      <td>229.000000</td>\n",
       "      <td>229.000000</td>\n",
       "    </tr>\n",
       "    <tr>\n",
       "      <th>mean</th>\n",
       "      <td>115.000000</td>\n",
       "      <td>25.925234</td>\n",
       "      <td>0.340611</td>\n",
       "      <td>0.148472</td>\n",
       "      <td>0.458515</td>\n",
       "      <td>0.030568</td>\n",
       "      <td>0.074236</td>\n",
       "    </tr>\n",
       "    <tr>\n",
       "      <th>std</th>\n",
       "      <td>66.250786</td>\n",
       "      <td>6.893150</td>\n",
       "      <td>0.474953</td>\n",
       "      <td>0.356346</td>\n",
       "      <td>0.499368</td>\n",
       "      <td>0.172520</td>\n",
       "      <td>0.262729</td>\n",
       "    </tr>\n",
       "    <tr>\n",
       "      <th>min</th>\n",
       "      <td>1.000000</td>\n",
       "      <td>13.000000</td>\n",
       "      <td>0.000000</td>\n",
       "      <td>0.000000</td>\n",
       "      <td>0.000000</td>\n",
       "      <td>0.000000</td>\n",
       "      <td>0.000000</td>\n",
       "    </tr>\n",
       "    <tr>\n",
       "      <th>25%</th>\n",
       "      <td>58.000000</td>\n",
       "      <td>22.000000</td>\n",
       "      <td>0.000000</td>\n",
       "      <td>0.000000</td>\n",
       "      <td>0.000000</td>\n",
       "      <td>0.000000</td>\n",
       "      <td>0.000000</td>\n",
       "    </tr>\n",
       "    <tr>\n",
       "      <th>50%</th>\n",
       "      <td>115.000000</td>\n",
       "      <td>26.000000</td>\n",
       "      <td>0.000000</td>\n",
       "      <td>0.000000</td>\n",
       "      <td>0.000000</td>\n",
       "      <td>0.000000</td>\n",
       "      <td>0.000000</td>\n",
       "    </tr>\n",
       "    <tr>\n",
       "      <th>75%</th>\n",
       "      <td>172.000000</td>\n",
       "      <td>29.000000</td>\n",
       "      <td>1.000000</td>\n",
       "      <td>0.000000</td>\n",
       "      <td>1.000000</td>\n",
       "      <td>0.000000</td>\n",
       "      <td>0.000000</td>\n",
       "    </tr>\n",
       "    <tr>\n",
       "      <th>max</th>\n",
       "      <td>229.000000</td>\n",
       "      <td>57.000000</td>\n",
       "      <td>1.000000</td>\n",
       "      <td>1.000000</td>\n",
       "      <td>1.000000</td>\n",
       "      <td>1.000000</td>\n",
       "      <td>1.000000</td>\n",
       "    </tr>\n",
       "  </tbody>\n",
       "</table>\n",
       "</div>"
      ],
      "text/plain": [
       "           row_id  player_age  heart_related  cardiac_related   collapsed  \\\n",
       "count  229.000000  214.000000     229.000000       229.000000  229.000000   \n",
       "mean   115.000000   25.925234       0.340611         0.148472    0.458515   \n",
       "std     66.250786    6.893150       0.474953         0.356346    0.499368   \n",
       "min      1.000000   13.000000       0.000000         0.000000    0.000000   \n",
       "25%     58.000000   22.000000       0.000000         0.000000    0.000000   \n",
       "50%    115.000000   26.000000       0.000000         0.000000    0.000000   \n",
       "75%    172.000000   29.000000       1.000000         0.000000    1.000000   \n",
       "max    229.000000   57.000000       1.000000         1.000000    1.000000   \n",
       "\n",
       "        lightning   collision  \n",
       "count  229.000000  229.000000  \n",
       "mean     0.030568    0.074236  \n",
       "std      0.172520    0.262729  \n",
       "min      0.000000    0.000000  \n",
       "25%      0.000000    0.000000  \n",
       "50%      0.000000    0.000000  \n",
       "75%      0.000000    0.000000  \n",
       "max      1.000000    1.000000  "
      ]
     },
     "execution_count": 3,
     "metadata": {},
     "output_type": "execute_result"
    }
   ],
   "source": [
    "df.describe()"
   ]
  },
  {
   "cell_type": "markdown",
   "id": "7174da25",
   "metadata": {},
   "source": [
    "It's Shoking! we have some player that has died at the age of 13! And also the oldest player to die during a football match was 57! Football really don't care about ages!"
   ]
  },
  {
   "cell_type": "code",
   "execution_count": 4,
   "id": "0f00bca1",
   "metadata": {},
   "outputs": [
    {
     "name": "stdout",
     "output_type": "stream",
     "text": [
      "<class 'pandas.core.frame.DataFrame'>\n",
      "RangeIndex: 229 entries, 0 to 228\n",
      "Data columns (total 13 columns):\n",
      " #   Column                Non-Null Count  Dtype  \n",
      "---  ------                --------------  -----  \n",
      " 0   row_id                229 non-null    int64  \n",
      " 1   incident_date         229 non-null    object \n",
      " 2   player_name           229 non-null    object \n",
      " 3   player_country        229 non-null    object \n",
      " 4   team_country          227 non-null    object \n",
      " 5   player_age            214 non-null    float64\n",
      " 6   player_team_name      229 non-null    object \n",
      " 7   incident_description  229 non-null    object \n",
      " 8   heart_related         229 non-null    int64  \n",
      " 9   cardiac_related       229 non-null    int64  \n",
      " 10  collapsed             229 non-null    int64  \n",
      " 11  lightning             229 non-null    int64  \n",
      " 12  collision             229 non-null    int64  \n",
      "dtypes: float64(1), int64(6), object(6)\n",
      "memory usage: 23.4+ KB\n"
     ]
    }
   ],
   "source": [
    "df.info()"
   ]
  },
  {
   "cell_type": "code",
   "execution_count": 5,
   "id": "8d590a3a",
   "metadata": {
    "scrolled": true
   },
   "outputs": [
    {
     "data": {
      "text/html": [
       "<div>\n",
       "<style scoped>\n",
       "    .dataframe tbody tr th:only-of-type {\n",
       "        vertical-align: middle;\n",
       "    }\n",
       "\n",
       "    .dataframe tbody tr th {\n",
       "        vertical-align: top;\n",
       "    }\n",
       "\n",
       "    .dataframe thead th {\n",
       "        text-align: right;\n",
       "    }\n",
       "</style>\n",
       "<table border=\"1\" class=\"dataframe\">\n",
       "  <thead>\n",
       "    <tr style=\"text-align: right;\">\n",
       "      <th></th>\n",
       "      <th>row_id</th>\n",
       "      <th>incident_date</th>\n",
       "      <th>player_name</th>\n",
       "      <th>player_country</th>\n",
       "      <th>team_country</th>\n",
       "      <th>player_age</th>\n",
       "      <th>player_team_name</th>\n",
       "      <th>incident_description</th>\n",
       "      <th>heart_related</th>\n",
       "      <th>cardiac_related</th>\n",
       "      <th>collapsed</th>\n",
       "      <th>lightning</th>\n",
       "      <th>collision</th>\n",
       "    </tr>\n",
       "  </thead>\n",
       "  <tbody>\n",
       "    <tr>\n",
       "      <th>148</th>\n",
       "      <td>149</td>\n",
       "      <td>2013-12-23</td>\n",
       "      <td>Jamie Skinner</td>\n",
       "      <td>Scotland</td>\n",
       "      <td>Scotland</td>\n",
       "      <td>13.0</td>\n",
       "      <td>Tynecastle</td>\n",
       "      <td>Cardiac arrest during a game in the Saughton P...</td>\n",
       "      <td>0</td>\n",
       "      <td>1</td>\n",
       "      <td>0</td>\n",
       "      <td>0</td>\n",
       "      <td>0</td>\n",
       "    </tr>\n",
       "    <tr>\n",
       "      <th>176</th>\n",
       "      <td>177</td>\n",
       "      <td>2016-08-26</td>\n",
       "      <td>Kieran McDade</td>\n",
       "      <td>Scotland</td>\n",
       "      <td>Scotland</td>\n",
       "      <td>13.0</td>\n",
       "      <td>Dunbeth FC</td>\n",
       "      <td>Suffered a cardiac arrest during football trai...</td>\n",
       "      <td>0</td>\n",
       "      <td>1</td>\n",
       "      <td>0</td>\n",
       "      <td>0</td>\n",
       "      <td>0</td>\n",
       "    </tr>\n",
       "    <tr>\n",
       "      <th>198</th>\n",
       "      <td>199</td>\n",
       "      <td>2018-09-01</td>\n",
       "      <td>Tijmen Steenbergen</td>\n",
       "      <td>Netherlands</td>\n",
       "      <td>Netherlands</td>\n",
       "      <td>13.0</td>\n",
       "      <td>VV Marinus van Rooijen 's-Heerenberg</td>\n",
       "      <td>Dutch goalkeeper who died in a C Youth league ...</td>\n",
       "      <td>0</td>\n",
       "      <td>0</td>\n",
       "      <td>0</td>\n",
       "      <td>0</td>\n",
       "      <td>1</td>\n",
       "    </tr>\n",
       "  </tbody>\n",
       "</table>\n",
       "</div>"
      ],
      "text/plain": [
       "     row_id incident_date         player_name player_country team_country  \\\n",
       "148     149    2013-12-23       Jamie Skinner       Scotland     Scotland   \n",
       "176     177    2016-08-26       Kieran McDade       Scotland     Scotland   \n",
       "198     199    2018-09-01  Tijmen Steenbergen    Netherlands  Netherlands   \n",
       "\n",
       "     player_age                      player_team_name  \\\n",
       "148        13.0                            Tynecastle   \n",
       "176        13.0                            Dunbeth FC   \n",
       "198        13.0  VV Marinus van Rooijen 's-Heerenberg   \n",
       "\n",
       "                                  incident_description  heart_related  \\\n",
       "148  Cardiac arrest during a game in the Saughton P...              0   \n",
       "176  Suffered a cardiac arrest during football trai...              0   \n",
       "198  Dutch goalkeeper who died in a C Youth league ...              0   \n",
       "\n",
       "     cardiac_related  collapsed  lightning  collision  \n",
       "148                1          0          0          0  \n",
       "176                1          0          0          0  \n",
       "198                0          0          0          1  "
      ]
     },
     "execution_count": 5,
     "metadata": {},
     "output_type": "execute_result"
    }
   ],
   "source": [
    "youngest_player = df[df['player_age'] == 13]\n",
    "youngest_player"
   ]
  },
  {
   "cell_type": "markdown",
   "id": "820d7f50",
   "metadata": {},
   "source": [
    "WOW! 3 players from age of 13! And they died in this decade which 2 of the deaths if cardiac related and from Scotland. It just show that how can football be hard some times that some 13 year old teenagers lost their lives to it!"
   ]
  },
  {
   "cell_type": "markdown",
   "id": "32e808d6",
   "metadata": {},
   "source": [
    "# Charts"
   ]
  },
  {
   "cell_type": "code",
   "execution_count": 6,
   "id": "1e4482ff",
   "metadata": {},
   "outputs": [],
   "source": [
    "import seaborn as sns\n",
    "import matplotlib\n",
    "import matplotlib.pyplot as plt\n",
    "%matplotlib inline\n",
    "\n",
    "sns.set_style('darkgrid')\n",
    "matplotlib.rcParams['font.size'] = 14\n",
    "matplotlib.rcParams['figure.figsize'] = (9, 5)\n",
    "matplotlib.rcParams['figure.facecolor'] = '#00000000'"
   ]
  },
  {
   "cell_type": "code",
   "execution_count": 7,
   "id": "f32e3f58",
   "metadata": {},
   "outputs": [
    {
     "data": {
      "text/plain": [
       "82"
      ]
     },
     "execution_count": 7,
     "metadata": {},
     "output_type": "execute_result"
    }
   ],
   "source": [
    "df['player_country'].nunique()"
   ]
  },
  {
   "cell_type": "markdown",
   "id": "b3dc5b13",
   "metadata": {},
   "source": [
    "we have 82 diffrenet country that at least one player from them died during football match"
   ]
  },
  {
   "cell_type": "code",
   "execution_count": 8,
   "id": "8eb36acf",
   "metadata": {},
   "outputs": [
    {
     "data": {
      "text/plain": [
       "England      29\n",
       "Nigeria      18\n",
       "Brazil       14\n",
       "Romania       9\n",
       "Scotland      9\n",
       "France        7\n",
       "Spain         7\n",
       "Belgium       6\n",
       "Cameroon      5\n",
       "Indonesia     5\n",
       "Croatia       5\n",
       "Peru          5\n",
       "Egypt         4\n",
       "Germany       4\n",
       "Portugal      4\n",
       "Name: player_country, dtype: int64"
      ]
     },
     "execution_count": 8,
     "metadata": {},
     "output_type": "execute_result"
    }
   ],
   "source": [
    "top_countries = df['player_country'].value_counts().head(15)\n",
    "top_countries"
   ]
  },
  {
   "cell_type": "code",
   "execution_count": 9,
   "id": "25410a48",
   "metadata": {},
   "outputs": [
    {
     "data": {
      "image/png": "[encoded data removed]",
      "text/plain": [
       "<Figure size 864x432 with 1 Axes>"
      ]
     },
     "metadata": {
      "needs_background": "light"
     },
     "output_type": "display_data"
    }
   ],
   "source": [
    "plt.figure(figsize=(12,6))\n",
    "plt.xticks(rotation=75)\n",
    "plt.title(\"Countries with most football death\")\n",
    "sns.barplot(x=top_countries.index, y=top_countries);"
   ]
  },
  {
   "cell_type": "markdown",
   "id": "6a89f0b6",
   "metadata": {},
   "source": [
    "It's intresting. Among first three countries we have England and Brazil! Two countries that we know people are insane about football! Can this amazing love of football puts more presure on players shoulders? England has the most deaths by distance!"
   ]
  },
  {
   "cell_type": "code",
   "execution_count": 10,
   "id": "37802f9e",
   "metadata": {},
   "outputs": [
    {
     "data": {
      "text/plain": [
       "England        33\n",
       "Romania        10\n",
       "France         10\n",
       "Brazil          9\n",
       "Germany         8\n",
       "Spain           7\n",
       "Scotland        7\n",
       "Peru            6\n",
       "Netherlands     6\n",
       "Belgium         6\n",
       "Portugal        6\n",
       "Croatia         5\n",
       "Nigeria         5\n",
       "Indonesia       5\n",
       "India           4\n",
       "Name: team_country, dtype: int64"
      ]
     },
     "execution_count": 10,
     "metadata": {},
     "output_type": "execute_result"
    }
   ],
   "source": [
    "top_team_countries = df['team_country'].value_counts().head(15)\n",
    "top_team_countries"
   ]
  },
  {
   "cell_type": "code",
   "execution_count": 11,
   "id": "39d6a5a8",
   "metadata": {},
   "outputs": [
    {
     "data": {
      "image/png": "[encoded data removed]",
      "text/plain": [
       "<Figure size 864x432 with 1 Axes>"
      ]
     },
     "metadata": {
      "needs_background": "light"
     },
     "output_type": "display_data"
    }
   ],
   "source": [
    "plt.figure(figsize=(12,6))\n",
    "plt.xticks(rotation=75)\n",
    "plt.title(\"Clubs of a country with most football death\")\n",
    "sns.barplot(x=top_team_countries.index, y=top_team_countries);"
   ]
  },
  {
   "cell_type": "markdown",
   "id": "7c0f77dd",
   "metadata": {},
   "source": [
    "Again England! The love and madness about football in this country can make things so hard for players! There is a meaningfull distance between England and other countries and it shows that 33 English club has experienced a death of their players during a match!"
   ]
  },
  {
   "cell_type": "code",
   "execution_count": 12,
   "id": "5d5e9787",
   "metadata": {},
   "outputs": [
    {
     "data": {
      "image/png": "[encoded data removed]",
      "text/plain": [
       "<Figure size 864x432 with 1 Axes>"
      ]
     },
     "metadata": {
      "needs_background": "light"
     },
     "output_type": "display_data"
    }
   ],
   "source": [
    "\n",
    "plt.figure(figsize=(12, 6))\n",
    "plt.title(\"Players Ages\")\n",
    "plt.xlabel('Players ages')\n",
    "plt.ylabel('Number')\n",
    "\n",
    "plt.hist(df['player_age'], bins=5, color='blue');"
   ]
  },
  {
   "cell_type": "markdown",
   "id": "b96ee36f",
   "metadata": {},
   "source": [
    "Most ot the cases are aged between 20 and 30! It's kinda shocking because people during this decade are at the highest level of body health and seeing this just makes us thiking that how can football be brutal and tiring!"
   ]
  },
  {
   "cell_type": "code",
   "execution_count": 13,
   "id": "14e5b224",
   "metadata": {},
   "outputs": [],
   "source": [
    "import datetime as dt\n",
    "\n",
    "df['year'] = pd.DatetimeIndex(df['incident_date']).year\n",
    "df['month'] = pd.DatetimeIndex(df['incident_date']).month"
   ]
  },
  {
   "cell_type": "markdown",
   "id": "b0e475c3",
   "metadata": {},
   "source": [
    "Years with most deaths!"
   ]
  },
  {
   "cell_type": "code",
   "execution_count": 14,
   "id": "b708c1b8",
   "metadata": {},
   "outputs": [
    {
     "data": {
      "image/png": "[encoded data removed]",
      "text/plain": [
       "<Figure size 864x432 with 1 Axes>"
      ]
     },
     "metadata": {
      "needs_background": "light"
     },
     "output_type": "display_data"
    }
   ],
   "source": [
    "top_years = df['year'].value_counts().head(10)\n",
    "plt.figure(figsize=(12,6))\n",
    "plt.xticks(rotation=75)\n",
    "plt.title(\"Years with most deaths\")\n",
    "sns.barplot(x=top_years.index, y=top_years);"
   ]
  },
  {
   "cell_type": "markdown",
   "id": "ce5e3d0b",
   "metadata": {},
   "source": [
    "As we can see years with most deaths are actually recent years! It means that getting better and better in football technologies that check players health stats every moment did not prevent the happening of death cases! Can the grew of social media put more presure on players?!"
   ]
  },
  {
   "cell_type": "markdown",
   "id": "c1c93ebb",
   "metadata": {},
   "source": [
    "# Some facts"
   ]
  },
  {
   "cell_type": "markdown",
   "id": "bcf1dc97",
   "metadata": {},
   "source": [
    "Just want to see if a club has more than one case of death!"
   ]
  },
  {
   "cell_type": "code",
   "execution_count": 15,
   "id": "df3c2e9e",
   "metadata": {},
   "outputs": [
    {
     "data": {
      "text/plain": [
       "Retired                     2\n",
       "Dinamo București            2\n",
       "Cameroon                    2\n",
       "USON Mondeville             2\n",
       "Deportivo Cali              2\n",
       "JS Kabylie                  2\n",
       "FC 105 Libreville           2\n",
       "SC Marchtrenk               1\n",
       "Deportivo Laferrere         1\n",
       "G.D. Tourizense             1\n",
       "Tynecastle                  1\n",
       "Defence Force               1\n",
       "Bankstown City FC           1\n",
       "Persiraja                   1\n",
       "Deportes Maipo Quilicura    1\n",
       "Name: player_team_name, dtype: int64"
      ]
     },
     "execution_count": 15,
     "metadata": {},
     "output_type": "execute_result"
    }
   ],
   "source": [
    "club_count = df['player_team_name'].value_counts().head(15)\n",
    "club_count"
   ]
  },
  {
   "cell_type": "markdown",
   "id": "5e467d74",
   "metadata": {},
   "source": [
    "OK! we have it. we have 7 types of clubs or country team with 2 death case! Cameroon natinal team, Dinamo București from Romania, USON Mondeville from France, Deportivo Cali from Colombia, JS Kabylie from Algeria and FC 105 Libreville from Gabon.\n",
    "How hard can it be for those clubs to have a tragedy repeated."
   ]
  },
  {
   "cell_type": "markdown",
   "id": "7694fe2e",
   "metadata": {},
   "source": [
    "As we can see in dataset it has 5 different types of reasons for deaths. Let's take a look at them! Because it has binary value we can just sum the values together!"
   ]
  },
  {
   "cell_type": "code",
   "execution_count": 16,
   "id": "e8456d10",
   "metadata": {},
   "outputs": [
    {
     "name": "stdout",
     "output_type": "stream",
     "text": [
      "death by heart related problems 78\n",
      "death by cardic related problems 34\n",
      "death by collapsed 105\n",
      "death by lightning 7\n",
      "death by collision 17\n"
     ]
    }
   ],
   "source": [
    "heart_related_cases = df['heart_related'].sum()\n",
    "cardiac_related_cases = df['cardiac_related'].sum()\n",
    "collapsed_cases = df['collapsed'].sum()\n",
    "lightning_cases = df['lightning'].sum()\n",
    "collision_cases = df['collision'].sum()\n",
    "print(\"death by heart related problems\",heart_related_cases)\n",
    "print(\"death by cardic related problems\",cardiac_related_cases)\n",
    "print(\"death by collapsed\",collapsed_cases)\n",
    "print(\"death by lightning\",lightning_cases)\n",
    "print(\"death by collision\",collision_cases)"
   ]
  },
  {
   "cell_type": "code",
   "execution_count": null,
   "id": "c8b5f478",
   "metadata": {},
   "outputs": [],
   "source": []
  }
 ],
 "metadata": {
  "kernelspec": {
   "display_name": "Python 3 (ipykernel)",
   "language": "python",
   "name": "python3"
  },
  "language_info": {
   "codemirror_mode": {
    "name": "ipython",
    "version": 3
   },
   "file_extension": ".py",
   "mimetype": "text/x-python",
   "name": "python",
   "nbconvert_exporter": "python",
   "pygments_lexer": "ipython3",
   "version": "3.9.12"
  }
 },
 "nbformat": 4,
 "nbformat_minor": 5
}
